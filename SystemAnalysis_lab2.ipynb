{
 "cells": [
  {
   "cell_type": "code",
   "execution_count": 1,
   "metadata": {},
   "outputs": [],
   "source": [
    "import pandas as pd\n",
    "import numpy as np\n",
    "import copy"
   ]
  },
  {
   "cell_type": "code",
   "execution_count": 2,
   "metadata": {},
   "outputs": [],
   "source": [
    "X_data = pd.read_csv(\"X_data.csv\")\n",
    "X_data = X_data.to_numpy(dtype=np.float32)"
   ]
  },
  {
   "cell_type": "code",
   "execution_count": 3,
   "metadata": {},
   "outputs": [],
   "source": [
    "Y_data = pd.read_csv(\"Y_data.csv\")\n",
    "Y_data = Y_data.to_numpy(dtype=np.float32)"
   ]
  },
  {
   "cell_type": "markdown",
   "metadata": {},
   "source": [
    "Пусть размерность вектора $x_1 - n_1$, $x_2 - n_2$ и $x_3 - n_3$"
   ]
  },
  {
   "cell_type": "markdown",
   "metadata": {},
   "source": [
    "В случае нашей выборки #3, $n_1 = 2$, $n_2 = 2$ и $n_3 = 2$"
   ]
  },
  {
   "cell_type": "code",
   "execution_count": 4,
   "metadata": {},
   "outputs": [],
   "source": [
    "n1, n2, n3 = 2, 2, 2"
   ]
  },
  {
   "cell_type": "code",
   "execution_count": 5,
   "metadata": {},
   "outputs": [],
   "source": [
    "X1 = X_data[:, 0: n1]\n",
    "X2 = X_data[:, n1: n1 + n2]\n",
    "X3 = X_data[:, n1 + n2: n1 + n2 + n3]"
   ]
  },
  {
   "cell_type": "code",
   "execution_count": 6,
   "metadata": {},
   "outputs": [],
   "source": [
    "def norm_all_matrix(a):\n",
    "    min_element = a.min()\n",
    "    max_element = a.max()\n",
    "    result = copy.deepcopy(a)\n",
    "    result = result.astype(np.float32)\n",
    "    for i in range(result.shape[0]):\n",
    "        for j in range(result.shape[1]):\n",
    "            result[i, j] = (result[i, j] - min_element) / (max_element - min_element)\n",
    "    \n",
    "    return result    "
   ]
  },
  {
   "cell_type": "code",
   "execution_count": 7,
   "metadata": {},
   "outputs": [],
   "source": [
    "X1_norm = norm_all_matrix(X1)\n",
    "X2_norm = norm_all_matrix(X2)\n",
    "X3_norm = norm_all_matrix(X3)\n",
    "Y_norm = norm_all_matrix(Y_data)"
   ]
  },
  {
   "cell_type": "code",
   "execution_count": 8,
   "metadata": {},
   "outputs": [],
   "source": [
    "def chebyshev_polynom_in_point(x, degree):\n",
    "    values = np.zeros(degree + 1)\n",
    "    values[0] = 1\n",
    "    values[1] = x\n",
    "    for current_degree in range(2, degree + 1):\n",
    "        values[current_degree] = 2 * x * values[current_degree - 1] - values[current_degree - 2]\n",
    "    \n",
    "    return values[degree]"
   ]
  },
  {
   "cell_type": "code",
   "execution_count": 9,
   "metadata": {},
   "outputs": [],
   "source": [
    "def star_chebyshev_polynom_in_point(x, degree):\n",
    "    if degree == 0:\n",
    "        return 0.5\n",
    "    else:\n",
    "        return chebyshev_polynom_in_point(2 * x - 1, degree)"
   ]
  },
  {
   "cell_type": "markdown",
   "metadata": {},
   "source": [
    "Для начала зафиксируем степень смещенных полиномов Чебешева $T_{P_1}^{*}(x)$, $T_{P_2}^{*}(x)$ и $T_{P_3}^{*}(x)$:"
   ]
  },
  {
   "cell_type": "code",
   "execution_count": 10,
   "metadata": {},
   "outputs": [],
   "source": [
    "P1, P2, P3 = 3, 3, 3"
   ]
  },
  {
   "cell_type": "markdown",
   "metadata": {},
   "source": [
    "Составим систему уравнений и решим ее для нахождения $||\\lambda||$"
   ]
  },
  {
   "cell_type": "code",
   "execution_count": 11,
   "metadata": {},
   "outputs": [],
   "source": [
    "def find_lambdas(X, Y, degrees_of_polynomials, size_of_vectors, calc_polynom_in_point):\n",
    "    A = []\n",
    "    N = Y.shape[0]\n",
    "    for sample_number in range(N):\n",
    "        current_row = []\n",
    "        for i, X_i in enumerate(X):\n",
    "            current_row = np.hstack([current_row, [calc_polynom_in_point(X_i[sample_number][j], degree)\n",
    "                                                   for j in range(size_of_vectors[i])\n",
    "                                                   for degree in range(degrees_of_polynomials[i] + 1)\n",
    "                                                  ]\n",
    "                                    ])\n",
    "        A.append(current_row)\n",
    "    \n",
    "    lambdas = [np.linalg.lstsq(A, Y[:, k])[0] for k in range(Y.shape[1])]\n",
    "    return lambdas"
   ]
  },
  {
   "cell_type": "code",
   "execution_count": 12,
   "metadata": {
    "scrolled": true
   },
   "outputs": [
    {
     "name": "stderr",
     "output_type": "stream",
     "text": [
      "/home/vladislav/.local/lib/python3.6/site-packages/ipykernel_launcher.py:14: FutureWarning: `rcond` parameter will change to the default of machine precision times ``max(M, N)`` where M and N are the input matrix dimensions.\n",
      "To use the future default and silence this warning we advise to pass `rcond=None`, to keep using the old, explicitly pass `rcond=-1`.\n",
      "  \n"
     ]
    }
   ],
   "source": [
    "lambdas = find_lambdas([X1_norm, X2_norm, X3_norm], Y_norm, \n",
    "                       [P1, P2, P3], [n1, n2, n3], \n",
    "                       star_chebyshev_polynom_in_point)"
   ]
  },
  {
   "cell_type": "markdown",
   "metadata": {},
   "source": [
    "Теперь составим три системы для нахождение $||\\alpha||$"
   ]
  },
  {
   "cell_type": "code",
   "execution_count": 13,
   "metadata": {},
   "outputs": [],
   "source": [
    "def find_alphas(X, Y, degrees_of_polynomials, size_of_vectors, calc_polynom_in_point, lambdas):\n",
    "    alphas = []\n",
    "    phi_count = Y.shape[1]\n",
    "    N = Y.shape[0]\n",
    "    for phi_idx in range(phi_count):\n",
    "        B = []\n",
    "        for i, X_i in enumerate(X):\n",
    "            current_B = []\n",
    "            for sample_number in range(N):\n",
    "                current_row = []\n",
    "                idx = 0\n",
    "                for z in range(i):\n",
    "                    idx += size_of_vectors[z] * (degrees_of_polynomials[z] + 1)\n",
    "                for j in range(size_of_vectors[i]):\n",
    "                    c = 0\n",
    "                    for degree in range(degrees_of_polynomials[i] + 1):\n",
    "                        c += calc_polynom_in_point(X_i[sample_number][j], degree) * lambdas[phi_idx][idx]\n",
    "                        idx += 1\n",
    "                    current_row.append(c)\n",
    "                current_B.append(current_row)\n",
    "            B.append(current_B)\n",
    "        alphas.append([np.linalg.lstsq(A, Y[:, phi_idx])[0] for A in B])\n",
    "    \n",
    "    return alphas"
   ]
  },
  {
   "cell_type": "code",
   "execution_count": 14,
   "metadata": {},
   "outputs": [
    {
     "name": "stderr",
     "output_type": "stream",
     "text": [
      "/home/vladislav/.local/lib/python3.6/site-packages/ipykernel_launcher.py:22: FutureWarning: `rcond` parameter will change to the default of machine precision times ``max(M, N)`` where M and N are the input matrix dimensions.\n",
      "To use the future default and silence this warning we advise to pass `rcond=None`, to keep using the old, explicitly pass `rcond=-1`.\n"
     ]
    }
   ],
   "source": [
    "alphas = find_alphas([X1_norm, X2_norm, X3_norm], Y_norm, \n",
    "                                     [P1, P2, P3], [n1, n2, n3], \n",
    "                                     star_chebyshev_polynom_in_point,\n",
    "                                     lambdas)"
   ]
  },
  {
   "cell_type": "code",
   "execution_count": 23,
   "metadata": {},
   "outputs": [],
   "source": [
    "coeff1, coeff2, coeff3 = alphas[0]"
   ]
  },
  {
   "cell_type": "code",
   "execution_count": 24,
   "metadata": {},
   "outputs": [],
   "source": [
    "phi_number = 0"
   ]
  },
  {
   "cell_type": "markdown",
   "metadata": {},
   "source": [
    "Теперь составим и решим систему для нахождения коэффициентов $||c||$"
   ]
  },
  {
   "cell_type": "code",
   "execution_count": 25,
   "metadata": {},
   "outputs": [],
   "source": [
    "def find_C(X, Y, degrees_of_polynomials, size_of_vectors, calc_polynom_in_point, lambdas, alphas):\n",
    "    C = []\n",
    "    phi_count = Y.shape[1]\n",
    "    N = Y.shape[0]\n",
    "    for phi_idx in range(phi_count):\n",
    "        current_C = []\n",
    "        for sample_number in range(N):\n",
    "            coeff = []\n",
    "            for i, X_i in enumerate(X):\n",
    "                current_coeff = 0\n",
    "                idx = 0\n",
    "                for z in range(i):\n",
    "                    idx += size_of_vectors[z] * (degrees_of_polynomials[z] + 1)\n",
    "                for j in range(size_of_vectors[i]):\n",
    "                    for degree in range(degrees_of_polynomials[i] + 1):\n",
    "                        current_coeff += alphas[phi_idx][i][j] * lambdas[phi_idx][idx] * calc_polynom_in_point(X_i[sample_number][j], degree)\n",
    "                        idx += 1\n",
    "                coeff.append(current_coeff)\n",
    "            current_C.append(coeff)\n",
    "        C.append(current_C)\n",
    "        \n",
    "    result = [np.linalg.lstsq(C[k], Y[:, k])[0] for k in range(phi_count)]\n",
    "    return result"
   ]
  },
  {
   "cell_type": "code",
   "execution_count": 26,
   "metadata": {
    "scrolled": true
   },
   "outputs": [
    {
     "name": "stderr",
     "output_type": "stream",
     "text": [
      "/home/vladislav/.local/lib/python3.6/site-packages/ipykernel_launcher.py:22: FutureWarning: `rcond` parameter will change to the default of machine precision times ``max(M, N)`` where M and N are the input matrix dimensions.\n",
      "To use the future default and silence this warning we advise to pass `rcond=None`, to keep using the old, explicitly pass `rcond=-1`.\n"
     ]
    }
   ],
   "source": [
    "final_coeff = find_C([X1_norm, X2_norm, X3_norm], Y_norm, \n",
    "                                     [P1, P2, P3], [n1, n2, n3], \n",
    "                                     star_chebyshev_polynom_in_point,\n",
    "                                     lambdas, alphas)[0]"
   ]
  },
  {
   "cell_type": "code",
   "execution_count": 27,
   "metadata": {},
   "outputs": [],
   "source": [
    "def calc(x1, x2, x3):\n",
    "    result = 0\n",
    "    \n",
    "    idx = 0\n",
    "    for j1 in range(n1):\n",
    "        for p1 in range(P1 + 1):\n",
    "            cur_coeff = coeff1[j1] * lambdas[phi_number][idx]\n",
    "            idx += 1\n",
    "            result += star_chebyshev_polynom_in_point(x1[j1], p1) * cur_coeff * final_coeff[0]\n",
    "\n",
    "    idx = n1 * (P1 + 1)\n",
    "    for j2 in range(n2):\n",
    "        for p2 in range(P2 + 1):\n",
    "            cur_coeff = coeff2[j2] * lambdas[phi_number][idx]\n",
    "            idx += 1\n",
    "            result += star_chebyshev_polynom_in_point(x2[j2], p2) * cur_coeff * final_coeff[1]\n",
    "    \n",
    "    idx = n1 * (P1 + 1) + n2 * (P2 + 1)\n",
    "    for j3 in range(n3):\n",
    "        for p3 in range(P3 + 1):\n",
    "            cur_coeff = coeff3[j3] * lambdas[phi_number][idx]\n",
    "            idx += 1\n",
    "            result += star_chebyshev_polynom_in_point(x3[j3], p3) * cur_coeff * final_coeff[2]\n",
    "\n",
    "    return result"
   ]
  },
  {
   "cell_type": "code",
   "execution_count": 28,
   "metadata": {},
   "outputs": [],
   "source": [
    "def calc_norm(x1, x2, x3):\n",
    "    return calc((x1 - X1.min()) / (X1.max() - X1.min()),\n",
    "                (x2 - X2.min()) / (X2.max() - X2.min()),\n",
    "                (x3 - X3.min()) / (X3.max() - X3.min())) * (Y_data.max() - Y_data.min()) + Y_data.min()"
   ]
  },
  {
   "cell_type": "code",
   "execution_count": 29,
   "metadata": {},
   "outputs": [],
   "source": [
    "def mse_error():\n",
    "    result = 0\n",
    "    for i in range(40):\n",
    "        result += abs(calc_norm(X1[i], X2[i], X3[i]) - Y_data[i, phi_number])\n",
    "    \n",
    "    return result / 40"
   ]
  },
  {
   "cell_type": "code",
   "execution_count": 30,
   "metadata": {
    "scrolled": false
   },
   "outputs": [
    {
     "name": "stdout",
     "output_type": "stream",
     "text": [
      "0.23187315989241428\n"
     ]
    }
   ],
   "source": [
    "print(mse_error())"
   ]
  },
  {
   "cell_type": "code",
   "execution_count": 31,
   "metadata": {},
   "outputs": [],
   "source": [
    "phi_count = Y_norm.shape[1]"
   ]
  },
  {
   "cell_type": "code",
   "execution_count": 32,
   "metadata": {},
   "outputs": [
    {
     "name": "stderr",
     "output_type": "stream",
     "text": [
      "/home/vladislav/.local/lib/python3.6/site-packages/ipykernel_launcher.py:22: FutureWarning: `rcond` parameter will change to the default of machine precision times ``max(M, N)`` where M and N are the input matrix dimensions.\n",
      "To use the future default and silence this warning we advise to pass `rcond=None`, to keep using the old, explicitly pass `rcond=-1`.\n"
     ]
    }
   ],
   "source": [
    "result = find_C([X1_norm, X2_norm, X3_norm], Y_norm, \n",
    "                                     [P1, P2, P3], [n1, n2, n3], \n",
    "                                     star_chebyshev_polynom_in_point,\n",
    "                                     lambdas, alphas)"
   ]
  },
  {
   "cell_type": "markdown",
   "metadata": {},
   "source": [
    "Выведим разложение $\\Phi_1$, $\\Phi_2$, $\\Phi_3$, $\\Phi_4$ и $\\Phi_5$"
   ]
  },
  {
   "cell_type": "code",
   "execution_count": 33,
   "metadata": {
    "scrolled": false
   },
   "outputs": [
    {
     "name": "stdout",
     "output_type": "stream",
     "text": [
      "Ф1(x1, x2, x3) = 0.4697 * Ф11(x1, x2, x3) + 0.0569 * Ф12(x1, x2, x3) + 0.5731 * Ф13(x1, x2, x3)\n",
      "\n",
      "Ф2(x1, x2, x3) = 0.5547 * Ф21(x1, x2, x3) + 0.1518 * Ф22(x1, x2, x3) + 0.6786 * Ф23(x1, x2, x3)\n",
      "\n",
      "Ф3(x1, x2, x3) = 0.4644 * Ф31(x1, x2, x3) + 0.0542 * Ф32(x1, x2, x3) + 0.5599 * Ф33(x1, x2, x3)\n",
      "\n",
      "Ф4(x1, x2, x3) = 0.4534 * Ф41(x1, x2, x3) + 0.0564 * Ф42(x1, x2, x3) + 0.5117 * Ф43(x1, x2, x3)\n",
      "\n",
      "Ф5(x1, x2, x3) = 0.5076 * Ф51(x1, x2, x3) + 0.0898 * Ф52(x1, x2, x3) + 0.6324 * Ф53(x1, x2, x3)\n",
      "\n"
     ]
    }
   ],
   "source": [
    "for phi_idx in range(phi_count):\n",
    "    print(\"Ф%d(x1, x2, x3) = %.4f * Ф%d1(x1, x2, x3) + %.4f * Ф%d2(x1, x2, x3) + %.4f * Ф%d3(x1, x2, x3)\" % (phi_idx + 1, result[phi_idx][0], \n",
    "                                                                                                                phi_idx + 1, result[phi_idx][1],\n",
    "                                                                                                                phi_idx + 1, result[phi_idx][2], phi_idx + 1))\n",
    "\n",
    "    print(\"\")"
   ]
  },
  {
   "cell_type": "code",
   "execution_count": 34,
   "metadata": {},
   "outputs": [],
   "source": [
    "degrees = [P1, P2, P3]\n",
    "sizes = [n1, n2, n3]\n",
    "phi_count = Y_norm.shape[1]"
   ]
  },
  {
   "cell_type": "code",
   "execution_count": 35,
   "metadata": {
    "scrolled": false
   },
   "outputs": [
    {
     "name": "stdout",
     "output_type": "stream",
     "text": [
      "Ф1(x1, x2, x3) = + 0.3588 * T0(x11)+ 0.1319 * T1(x11)+ 0.0000 * T2(x11)+ 0.0000 * T3(x11)\n",
      "+ 0.1458 * T0(x12)+ 0.1206 * T1(x12)+ -0.0000 * T2(x12)+ -0.0000 * T3(x12)\n",
      "+ 0.0327 * T0(x21)+ 0.0057 * T1(x21)+ -0.0000 * T2(x21)+ -0.0000 * T3(x21)\n",
      "+ 0.0134 * T0(x22)+ 0.0057 * T1(x22)+ 0.0012 * T2(x22)+ -0.0000 * T3(x22)\n",
      "+ 0.1302 * T0(x31)+ 0.1447 * T1(x31)+ 0.0275 * T2(x31)+ -0.0000 * T3(x31)\n",
      "+ 0.3744 * T0(x32)+ 0.1032 * T1(x32)+ -0.0000 * T2(x32)+ 0.0000 * T3(x32)\n",
      "\n",
      "Ф2(x1, x2, x3) = + 0.1756 * T0(x11)+ 0.1010 * T1(x11)+ -0.0000 * T2(x11)+ -0.0000 * T3(x11)\n",
      "+ 0.0722 * T0(x12)+ 0.0934 * T1(x12)+ 0.0000 * T2(x12)+ -0.0000 * T3(x12)\n",
      "+ 0.0318 * T0(x21)+ 0.0087 * T1(x21)+ 0.0000 * T2(x21)+ 0.0000 * T3(x21)\n",
      "+ 0.0178 * T0(x22)+ 0.0118 * T1(x22)+ 0.0025 * T2(x22)+ 0.0000 * T3(x22)\n",
      "+ 0.0767 * T0(x31)+ 0.1335 * T1(x31)+ 0.0254 * T2(x31)+ -0.0000 * T3(x31)\n",
      "+ 0.1681 * T0(x32)+ 0.0725 * T1(x32)+ 0.0000 * T2(x32)+ -0.0000 * T3(x32)\n",
      "\n",
      "Ф3(x1, x2, x3) = + 0.1950 * T0(x11)+ 0.0659 * T1(x11)+ -0.0000 * T2(x11)+ -0.0000 * T3(x11)\n",
      "+ 0.0803 * T0(x12)+ 0.0610 * T1(x12)+ 0.0000 * T2(x12)+ 0.0000 * T3(x12)\n",
      "+ 0.0176 * T0(x21)+ 0.0028 * T1(x21)+ 0.0000 * T2(x21)+ 0.0000 * T3(x21)\n",
      "+ 0.0070 * T0(x22)+ 0.0028 * T1(x22)+ 0.0006 * T2(x22)+ 0.0000 * T3(x22)\n",
      "+ 0.0697 * T0(x31)+ 0.0713 * T1(x31)+ 0.0135 * T2(x31)+ 0.0000 * T3(x31)\n",
      "+ 0.2056 * T0(x32)+ 0.0521 * T1(x32)+ 0.0000 * T2(x32)+ -0.0000 * T3(x32)\n",
      "\n",
      "Ф4(x1, x2, x3) = + 0.3693 * T0(x11)+ 0.0761 * T1(x11)+ 0.0000 * T2(x11)+ 0.0000 * T3(x11)\n",
      "+ 0.1630 * T0(x12)+ 0.0756 * T1(x12)+ 0.0000 * T2(x12)+ -0.0000 * T3(x12)\n",
      "+ 0.0409 * T0(x21)+ 0.0040 * T1(x21)+ 0.0000 * T2(x21)+ 0.0000 * T3(x21)\n",
      "+ 0.0150 * T0(x22)+ 0.0036 * T1(x22)+ 0.0008 * T2(x22)+ -0.0000 * T3(x22)\n",
      "+ 0.1287 * T0(x31)+ 0.0802 * T1(x31)+ 0.0152 * T2(x31)+ -0.0000 * T3(x31)\n",
      "+ 0.4071 * T0(x32)+ 0.0629 * T1(x32)+ -0.0000 * T2(x32)+ 0.0000 * T3(x32)\n",
      "\n",
      "Ф5(x1, x2, x3) = + 0.3212 * T0(x11)+ 0.1562 * T1(x11)+ -0.0000 * T2(x11)+ 0.0000 * T3(x11)\n",
      "+ 0.1275 * T0(x12)+ 0.1395 * T1(x12)+ -0.0000 * T2(x12)+ -0.0000 * T3(x12)\n",
      "+ 0.0391 * T0(x21)+ 0.0090 * T1(x21)+ 0.0000 * T2(x21)+ -0.0000 * T3(x21)\n",
      "+ 0.0187 * T0(x22)+ 0.0105 * T1(x22)+ 0.0023 * T2(x22)+ 0.0000 * T3(x22)\n",
      "+ 0.1274 * T0(x31)+ 0.1874 * T1(x31)+ 0.0356 * T2(x31)+ -0.0000 * T3(x31)\n",
      "+ 0.3203 * T0(x32)+ 0.1168 * T1(x32)+ -0.0000 * T2(x32)+ -0.0000 * T3(x32)\n",
      "\n"
     ]
    }
   ],
   "source": [
    "for phi_idx in range(phi_count):\n",
    "    answer = \"Ф%d(x1, x2, x3) = \" % (phi_idx + 1)\n",
    "    for num_x in [0, 1, 2]:\n",
    "        idx = 0\n",
    "        for z in range(num_x):\n",
    "            idx += sizes[z] * (degrees[z] + 1)\n",
    "        for j in range(sizes[num_x]):\n",
    "            for deg in range(degrees[num_x] + 1):\n",
    "                answer += \"+ %.4f * T%d(x%d)\" % (alphas[phi_idx][num_x][j] * lambdas[phi_idx][idx] * result[phi_idx][num_x], deg, (num_x + 1) * 10 + j + 1)\n",
    "                idx += 1\n",
    "            answer += \"\\n\"\n",
    "    print(answer)"
   ]
  },
  {
   "cell_type": "code",
   "execution_count": 36,
   "metadata": {},
   "outputs": [],
   "source": [
    "class Polynom:\n",
    "    def __init__(self, deg, coeff):\n",
    "        self.deg = deg\n",
    "        self.coeff = coeff\n",
    "        \n",
    "    def sum(self, rhs):\n",
    "        result = Polynom(max(rhs.deg, self.deg), np.zeros(max(rhs.deg, self.deg) + 1))\n",
    "        coeff1 = rhs.coeff[::-1]\n",
    "        coeff2 = self.coeff[::-1]\n",
    "        for i in range(max(rhs.deg, self.deg) + 1):\n",
    "            cand1 = 0\n",
    "            if i <= rhs.deg:\n",
    "                cand1 = coeff1[i]\n",
    "            \n",
    "            cand2 = 0\n",
    "            if i <= self.deg:\n",
    "                cand2 = coeff2[i]\n",
    "            \n",
    "            result.coeff[i] = cand1 + cand2\n",
    "    \n",
    "        result.coeff = result.coeff[::-1]\n",
    "        return result\n",
    "    \n",
    "    def mul(self, rhs):\n",
    "        result = Polynom(rhs.deg + self.deg, np.zeros(rhs.deg + self.deg + 1))\n",
    "        coeff1 = rhs.coeff[::-1]\n",
    "        coeff2 = self.coeff[::-1]\n",
    "        result_coeff = np.zeros(rhs.deg + self.deg + 1)\n",
    "        for deg1, val1 in enumerate(coeff1):\n",
    "            for deg2, val2 in enumerate(coeff2):\n",
    "                result_coeff[deg1 + deg2] += val1 * val2\n",
    "        \n",
    "        result.coeff = result_coeff[::-1]\n",
    "        \n",
    "        return result\n",
    "    \n",
    "    def mul_for_const(self, k):\n",
    "        result = Polynom(self.deg, copy.deepcopy(self.coeff))\n",
    "        for i in range(self.deg + 1):\n",
    "            result.coeff[i] = result.coeff[i] * k\n",
    "        return result\n",
    "    \n",
    "    def calc(self, point):\n",
    "        result = 0\n",
    "        for deg, coeff in enumerate(self.coeff[::-1]):\n",
    "            result += coeff * (point ** deg)\n",
    "        return result\n",
    "    \n",
    "    def factorial(n):\n",
    "        if n == 0 or n == 1:\n",
    "            return 1\n",
    "        \n",
    "        result = 1\n",
    "        for i in range(1, n + 1):\n",
    "            result *= i\n",
    "        return result\n",
    "    \n",
    "    def cnk(n, k):\n",
    "        return Polynom.factorial(n) / (Polynom.factorial(n - k) * Polynom.factorial(k))\n",
    "    \n",
    "    def calc_binom(a, b, n):\n",
    "        result = Polynom(0, [0])\n",
    "        for k in range(n + 1):\n",
    "            c = Polynom.cnk(n, k) * (a ** k) * (b ** (n - k))\n",
    "            coeff_arr = np.zeros(k + 1)\n",
    "            coeff_arr[0] = c\n",
    "            result = result.sum(Polynom(k, coeff_arr))\n",
    "        \n",
    "        return result\n",
    "        \n",
    "    def substitution(self, a, b):\n",
    "        result = Polynom(0, [0])\n",
    "        for deg, coeff in enumerate(self.coeff[::-1]):\n",
    "            result = result.sum(Polynom.calc_binom(a, b, deg).mul_for_const(coeff))\n",
    "        return result\n",
    "    \n",
    "    def add_const(self, k):\n",
    "        result = Polynom(self.deg, copy.deepcopy(self.coeff))\n",
    "        result.coeff[-1] += k\n",
    "        return result\n",
    "        \n",
    "    \n",
    "    def print(self, name='x'):\n",
    "        answer = \"\"\n",
    "        for idx, coeff in enumerate(self.coeff):\n",
    "            if abs(coeff) > 1e-6:\n",
    "                if idx != self.deg:\n",
    "                    answer += \"%.6f * %s ^ %d + \" % (coeff, name, self.deg - idx)\n",
    "                else:\n",
    "                    answer += \"%.6f\" % (coeff)\n",
    "        print(answer)"
   ]
  },
  {
   "cell_type": "code",
   "execution_count": 39,
   "metadata": {},
   "outputs": [],
   "source": [
    "def chebyshev_polynom(degree):\n",
    "    if degree == 0:\n",
    "        return Polynom(0, [1])\n",
    "    values = [0] * (degree + 1)\n",
    "    values[0] = Polynom(0, [1])\n",
    "    values[1] = Polynom(1, [1, 0])\n",
    "    for current_degree in range(2, degree + 1):\n",
    "        values[current_degree] = values[current_degree - 1].mul(Polynom(1, [2, 0])).sum(values[current_degree - 2].mul_for_const(-1))\n",
    "    return values[degree]"
   ]
  },
  {
   "cell_type": "code",
   "execution_count": 40,
   "metadata": {},
   "outputs": [],
   "source": [
    "def star_chebyshev_polynom(degree):\n",
    "    if degree == 0:\n",
    "        return Polynom(0, [0.5])\n",
    "    values = [0] * (degree + 1)\n",
    "    values[0] = Polynom(0, [1])\n",
    "    values[1] = Polynom(1, [2, -1])\n",
    "    for current_degree in range(2, degree + 1):\n",
    "        values[current_degree] = values[current_degree - 1].mul(Polynom(1, [4, -2])).sum(values[current_degree - 2].mul_for_const(-1))\n",
    "    return values[degree]"
   ]
  },
  {
   "cell_type": "markdown",
   "metadata": {},
   "source": [
    "Полиномы для нормированных данных"
   ]
  },
  {
   "cell_type": "code",
   "execution_count": 44,
   "metadata": {
    "scrolled": false
   },
   "outputs": [
    {
     "name": "stdout",
     "output_type": "stream",
     "text": [
      "Ф1(x1, x2, x3) = 0.000031 * x11 ^ 3 + -0.000036 * x11 ^ 2 + 0.263785 * x11 ^ 1 + 0.047535\n",
      "-0.000002 * x12 ^ 3 + -0.000002 * x12 ^ 2 + 0.241119 * x12 ^ 1 + -0.047664\n",
      "-0.000001 * x21 ^ 3 + 0.011414 * x21 ^ 1 + 0.010639\n",
      "0.009816 * x22 ^ 2 + 0.001643 * x22 ^ 1 + 0.002222\n",
      "-0.000001 * x31 ^ 3 + 0.220073 * x31 ^ 2 + 0.069374 * x31 ^ 1 + -0.052128\n",
      "0.000010 * x32 ^ 3 + -0.000015 * x32 ^ 2 + 0.206385 * x32 ^ 1 + 0.083989\n",
      "\n",
      "Ф2(x1, x2, x3) = -0.000002 * x11 ^ 3 + 0.000002 * x11 ^ 2 + 0.201972 * x11 ^ 1 + -0.013182\n",
      "-0.000002 * x12 ^ 3 + 0.000003 * x12 ^ 2 + 0.186846 * x12 ^ 1 + -0.057322\n",
      "0.017378 * x21 ^ 1 + 0.007216\n",
      "0.020270 * x22 ^ 2 + 0.003395 * x22 ^ 1 + -0.000422\n",
      "0.202969 * x31 ^ 2 + 0.063977 * x31 ^ 1 + -0.069738\n",
      "-0.000004 * x32 ^ 3 + 0.000006 * x32 ^ 2 + 0.144996 * x32 ^ 1 + 0.011548\n",
      "\n",
      "Ф3(x1, x2, x3) = -0.000023 * x11 ^ 3 + 0.000027 * x11 ^ 2 + 0.131757 * x11 ^ 1 + 0.031619\n",
      "0.000001 * x12 ^ 3 + 0.000001 * x12 ^ 2 + 0.122051 * x12 ^ 1 + -0.020887\n",
      "0.005648 * x21 ^ 1 + 0.005974\n",
      "0.004722 * x22 ^ 2 + 0.000791 * x22 ^ 1 + 0.001354\n",
      "0.000001 * x31 ^ 3 + 0.108397 * x31 ^ 2 + 0.034166 * x31 ^ 1 + -0.022859\n",
      "-0.000008 * x32 ^ 3 + 0.000012 * x32 ^ 2 + 0.104177 * x32 ^ 1 + 0.050693\n",
      "\n",
      "Ф4(x1, x2, x3) = 0.000008 * x11 ^ 3 + -0.000011 * x11 ^ 2 + 0.152142 * x11 ^ 1 + 0.108583\n",
      "-0.000002 * x12 ^ 3 + 0.000008 * x12 ^ 2 + 0.151111 * x12 ^ 1 + 0.005957\n",
      "0.008008 * x21 ^ 1 + 0.016458\n",
      "0.006129 * x22 ^ 2 + 0.001026 * x22 ^ 1 + 0.004682\n",
      "-0.000013 * x31 ^ 3 + 0.121990 * x31 ^ 2 + 0.038440 * x31 ^ 1 + -0.000599\n",
      "0.000008 * x32 ^ 3 + -0.000017 * x32 ^ 2 + 0.125802 * x32 ^ 1 + 0.140669\n",
      "\n",
      "Ф5(x1, x2, x3) = 0.000006 * x11 ^ 3 + -0.000010 * x11 ^ 2 + 0.312458 * x11 ^ 1 + 0.004378\n",
      "-0.000005 * x12 ^ 3 + 0.000006 * x12 ^ 2 + 0.279055 * x12 ^ 1 + -0.075778\n",
      "0.018083 * x21 ^ 1 + 0.010527\n",
      "0.018041 * x22 ^ 2 + 0.003022 * x22 ^ 1 + 0.001065\n",
      "0.284938 * x31 ^ 2 + 0.089817 * x31 ^ 1 + -0.088081\n",
      "-0.000009 * x32 ^ 3 + 0.000014 * x32 ^ 2 + 0.233644 * x32 ^ 1 + 0.043307\n",
      "\n"
     ]
    }
   ],
   "source": [
    "for phi_idx in range(phi_count):\n",
    "    check = 0\n",
    "    print(\"Ф%d(x1, x2, x3) = \" % (phi_idx + 1), end='')\n",
    "    for num_x in [0, 1, 2]:\n",
    "        idx = 0\n",
    "        for z in range(num_x):\n",
    "            idx += sizes[z] * (degrees[z] + 1)\n",
    "        for j in range(sizes[num_x]):\n",
    "            current_polynom = Polynom(0, [0])\n",
    "            for deg in range(degrees[num_x] + 1):\n",
    "                current_polynom = current_polynom.sum(star_chebyshev_polynom(deg).mul_for_const(alphas[phi_idx][num_x][j] * lambdas[phi_idx][idx] * result[phi_idx][num_x]))\n",
    "                idx += 1\n",
    "\n",
    "            current_polynom.print(name='x%d' % ((num_x + 1) * 10 + j + 1))\n",
    "\n",
    "    print()"
   ]
  },
  {
   "cell_type": "markdown",
   "metadata": {},
   "source": [
    "Полиномы для исходных данных"
   ]
  },
  {
   "cell_type": "code",
   "execution_count": 45,
   "metadata": {},
   "outputs": [
    {
     "name": "stdout",
     "output_type": "stream",
     "text": [
      "Ф1(x1, x2, x3) = 0.000023 * x11 ^ 3 + -0.000054 * x11 ^ 2 + 0.785995 * x11 ^ 1 + 0.996558\n",
      "-0.000001 * x12 ^ 3 + -0.000003 * x12 ^ 2 + 0.718457 * x12 ^ 1 + -0.284049\n",
      "0.000001 * x21 ^ 2 + 0.035802 * x21 ^ 1 + 0.063399\n",
      "0.016204 * x22 ^ 2 + 0.005154 * x22 ^ 1 + 0.013245\n",
      "0.327874 * x31 ^ 2 + 0.206714 * x31 ^ 1 + -0.310648\n",
      "0.000007 * x32 ^ 3 + -0.000022 * x32 ^ 2 + 0.614962 * x32 ^ 1 + 0.500522\n",
      "\n",
      "Ф2(x1, x2, x3) = -0.000002 * x11 ^ 3 + 0.000003 * x11 ^ 2 + 0.601812 * x11 ^ 1 + 0.634726\n",
      "-0.000001 * x12 ^ 3 + 0.000004 * x12 ^ 2 + 0.556741 * x12 ^ 1 + -0.341601\n",
      "0.054505 * x21 ^ 1 + 0.043002\n",
      "0.033462 * x22 ^ 2 + 0.010648 * x22 ^ 1 + -0.002515\n",
      "0.302392 * x31 ^ 2 + 0.190631 * x31 ^ 1 + -0.415594\n",
      "-0.000003 * x32 ^ 3 + 0.000009 * x32 ^ 2 + 0.432043 * x32 ^ 1 + 0.068821\n",
      "\n",
      "Ф3(x1, x2, x3) = -0.000017 * x11 ^ 3 + 0.000040 * x11 ^ 2 + 0.392594 * x11 ^ 1 + 0.901707\n",
      "0.000002 * x12 ^ 2 + 0.363672 * x12 ^ 1 + -0.124473\n",
      "0.017714 * x21 ^ 1 + 0.035603\n",
      "0.007795 * x22 ^ 2 + 0.002482 * x22 ^ 1 + 0.008067\n",
      "0.161494 * x31 ^ 2 + 0.101804 * x31 ^ 1 + -0.136227\n",
      "-0.000006 * x32 ^ 3 + 0.000018 * x32 ^ 2 + 0.310413 * x32 ^ 1 + 0.302100\n",
      "\n",
      "Ф4(x1, x2, x3) = 0.000006 * x11 ^ 3 + -0.000016 * x11 ^ 2 + 0.453335 * x11 ^ 1 + 1.360363\n",
      "-0.000001 * x12 ^ 3 + 0.000012 * x12 ^ 2 + 0.450262 * x12 ^ 1 + 0.035502\n",
      "0.000001 * x21 ^ 2 + 0.025117 * x21 ^ 1 + 0.098081\n",
      "0.010118 * x22 ^ 2 + 0.003220 * x22 ^ 1 + 0.027902\n",
      "-0.000009 * x31 ^ 3 + 0.181746 * x31 ^ 2 + 0.114539 * x31 ^ 1 + -0.003568\n",
      "0.000006 * x32 ^ 3 + -0.000026 * x32 ^ 2 + 0.374851 * x32 ^ 1 + 0.838297\n",
      "\n",
      "Ф5(x1, x2, x3) = 0.000005 * x11 ^ 3 + -0.000015 * x11 ^ 2 + 0.931024 * x11 ^ 1 + 0.739371\n",
      "-0.000004 * x12 ^ 3 + 0.000008 * x12 ^ 2 + 0.831496 * x12 ^ 1 + -0.451586\n",
      "0.056718 * x21 ^ 1 + 0.062734\n",
      "0.029782 * x22 ^ 2 + 0.009477 * x22 ^ 1 + 0.006347\n",
      "0.424512 * x31 ^ 2 + 0.267625 * x31 ^ 1 + -0.524909\n",
      "-0.000007 * x32 ^ 3 + 0.000021 * x32 ^ 2 + 0.696183 * x32 ^ 1 + 0.258081\n",
      "\n"
     ]
    }
   ],
   "source": [
    "for phi_idx in range(phi_count):\n",
    "    check = 0\n",
    "    const_add_one_time = False\n",
    "    print(\"Ф%d(x1, x2, x3) = \" % (phi_idx + 1), end='')\n",
    "    for num_x in [0, 1, 2]:\n",
    "        idx = 0\n",
    "        for z in range(num_x):\n",
    "            idx += sizes[z] * (degrees[z] + 1)\n",
    "        for j in range(sizes[num_x]):\n",
    "            current_polynom = Polynom(0, [0])\n",
    "            for deg in range(degrees[num_x] + 1):\n",
    "                temp_polynom = star_chebyshev_polynom(deg).mul_for_const(alphas[phi_idx][num_x][j] * lambdas[phi_idx][idx] * result[phi_idx][num_x])\n",
    "                idx += 1\n",
    "                if num_x == 0:\n",
    "                    temp_polynom = temp_polynom.substitution(1 / (X1.max() - X1.min()), -X1.min() / (X1.max() - X1.min()))\n",
    "                elif num_x == 1:\n",
    "                    temp_polynom = temp_polynom.substitution(1 / (X2.max() - X2.min()), -X2.min() / (X2.max() - X2.min()))\n",
    "                else:\n",
    "                    temp_polynom = temp_polynom.substitution(1 / (X3.max() - X3.min()), -X3.min() / (X3.max() - X3.min()))\n",
    "                \n",
    "                \n",
    "                current_polynom = current_polynom.sum(temp_polynom)\n",
    "            \n",
    "            current_polynom = current_polynom.mul_for_const(Y_data.max() - Y_data.min())    \n",
    "            if not const_add_one_time:\n",
    "                const_add_one_time = True\n",
    "                current_polynom = current_polynom.add_const(Y_data.min())\n",
    "                \n",
    "\n",
    "            current_polynom.print(name='x%d' % ((num_x + 1) * 10 + j + 1))\n",
    "    print()"
   ]
  },
  {
   "cell_type": "code",
   "execution_count": null,
   "metadata": {},
   "outputs": [],
   "source": []
  },
  {
   "cell_type": "code",
   "execution_count": null,
   "metadata": {},
   "outputs": [],
   "source": []
  }
 ],
 "metadata": {
  "kernelspec": {
   "display_name": "Python 3",
   "language": "python",
   "name": "python3"
  },
  "language_info": {
   "codemirror_mode": {
    "name": "ipython",
    "version": 3
   },
   "file_extension": ".py",
   "mimetype": "text/x-python",
   "name": "python",
   "nbconvert_exporter": "python",
   "pygments_lexer": "ipython3",
   "version": "3.6.9"
  }
 },
 "nbformat": 4,
 "nbformat_minor": 2
}
